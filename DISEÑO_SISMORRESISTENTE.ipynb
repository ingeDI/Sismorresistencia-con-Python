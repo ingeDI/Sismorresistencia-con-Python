{
  "nbformat": 4,
  "nbformat_minor": 0,
  "metadata": {
    "colab": {
      "name": "DISEÑO SISMORRESISTENTE.ipynb",
      "provenance": [],
      "authorship_tag": "ABX9TyNCE100sS+pxXBcuOduoAja",
      "include_colab_link": true
    },
    "kernelspec": {
      "name": "python3",
      "display_name": "Python 3"
    }
  },
  "cells": [
    {
      "cell_type": "markdown",
      "metadata": {
        "id": "view-in-github",
        "colab_type": "text"
      },
      "source": [
        "<a href=\"https://colab.research.google.com/github/ingeDI/Sismorresistencia-con-Python/blob/master/DISE%C3%91O_SISMORRESISTENTE.ipynb\" target=\"_parent\"><img src=\"https://colab.research.google.com/assets/colab-badge.svg\" alt=\"Open In Colab\"/></a>"
      ]
    },
    {
      "cell_type": "markdown",
      "metadata": {
        "id": "vnkrQD7frp_D"
      },
      "source": [
        "# **UNIDAD II**\r\n"
      ]
    },
    {
      "cell_type": "markdown",
      "metadata": {
        "id": "8iXCVx-ssfCa"
      },
      "source": [
        "##CLASE 1"
      ]
    },
    {
      "cell_type": "code",
      "metadata": {
        "id": "RBi7iEgrsT5e"
      },
      "source": [
        ""
      ],
      "execution_count": null,
      "outputs": []
    },
    {
      "cell_type": "markdown",
      "metadata": {
        "id": "wkSaJ_GTtPtC"
      },
      "source": [
        "##CLASE 2"
      ]
    },
    {
      "cell_type": "markdown",
      "metadata": {
        "id": "kf1yJqaktbCK"
      },
      "source": [
        "###EJERCICIO"
      ]
    },
    {
      "cell_type": "code",
      "metadata": {
        "id": "G0YAhl8QtcX_"
      },
      "source": [
        ""
      ],
      "execution_count": null,
      "outputs": []
    },
    {
      "cell_type": "markdown",
      "metadata": {
        "id": "Fv8-qxSOsOH6"
      },
      "source": [
        "#**UNIDAD III**"
      ]
    }
  ]
}